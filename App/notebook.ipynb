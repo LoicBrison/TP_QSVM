{
 "cells": [
  {
   "cell_type": "code",
   "execution_count": null,
   "metadata": {},
   "outputs": [],
   "source": [
    "import pandas as pd\n",
    "import numpy as np\n"
   ]
  },
  {
   "cell_type": "code",
   "execution_count": null,
   "metadata": {},
   "outputs": [],
   "source": [
    "#Importation des données\n",
    "df_phishing_detection = pd.read_csv('../Data/Phishing_Detection_Dataset.csv')\n",
    "df_phishing_predict = pd.read_csv('../Data/Phishing_dataset_predict.csv')\n",
    "\n",
    "df_phishing_detection = df_phishing_detection.drop(df_phishing_detection.columns[[0]], axis=1) \n",
    "df_phishing_predict = df_phishing_predict.drop(df_phishing_predict.columns[[0]], axis=1) \n",
    "\n",
    "# print(df_phishing_detection.head())\n",
    "# print(df_phishing_predict.head())"
   ]
  },
  {
   "cell_type": "code",
   "execution_count": null,
   "metadata": {},
   "outputs": [],
   "source": [
    "#Présentation des données\n"
   ]
  }
 ],
 "metadata": {
  "kernelspec": {
   "display_name": "venv",
   "language": "python",
   "name": "python3"
  },
  "language_info": {
   "codemirror_mode": {
    "name": "ipython",
    "version": 3
   },
   "file_extension": ".py",
   "mimetype": "text/x-python",
   "name": "python",
   "nbconvert_exporter": "python",
   "pygments_lexer": "ipython3",
   "version": "3.11.9"
  }
 },
 "nbformat": 4,
 "nbformat_minor": 2
}
