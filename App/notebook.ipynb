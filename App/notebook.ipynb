{
 "cells": [
  {
   "cell_type": "code",
   "execution_count": 4,
   "metadata": {},
   "outputs": [],
   "source": [
    "import pandas as pd\n",
    "import numpy as np\n"
   ]
  },
  {
   "cell_type": "code",
   "execution_count": 5,
   "metadata": {},
   "outputs": [
    {
     "name": "stdout",
     "output_type": "stream",
     "text": [
      "   Unnamed: 0  NumDots  UrlLength  NumDash  AtSymbol  IpAddress  \\\n",
      "0           0        3         72        0         0          0   \n",
      "1           1        3        144        0         0          0   \n",
      "2           2        3         58        0         0          0   \n",
      "3           3        3         79        1         0          0   \n",
      "4           4        3         46        0         0          0   \n",
      "\n",
      "   HttpsInHostname  PathLevel  PathLength  NumNumericChars  Phising  \n",
      "0                0          5          44                0      1.0  \n",
      "1                0          3          16               41      1.0  \n",
      "2                0          2          24                0      1.0  \n",
      "3                0          6          50                0      1.0  \n",
      "4                0          4          29                2      1.0  \n",
      "   Unnamed: 0  NumDots  UrlLength  AtSymbol  NumDash  NumPercent  \\\n",
      "0           0        3         72         0        0           0   \n",
      "1           1        3        144         0        0           0   \n",
      "2           2        3         58         0        0           0   \n",
      "3           3        3         79         0        1           0   \n",
      "4           4        3         46         0        0           0   \n",
      "\n",
      "   NumQueryComponents  IpAddress  HttpsInHostname  PathLevel  PathLength  \\\n",
      "0                   0          0                0          5          44   \n",
      "1                   2          0                0          3          16   \n",
      "2                   0          0                0          2          24   \n",
      "3                   0          0                0          6          50   \n",
      "4                   0          0                0          4          29   \n",
      "\n",
      "   NumNumericChars  Phising  \n",
      "0                0      1.0  \n",
      "1               41      1.0  \n",
      "2                0      1.0  \n",
      "3                0      1.0  \n",
      "4                2      1.0  \n"
     ]
    }
   ],
   "source": [
    "#Importation des données\n",
    "df_phishing_detection = pd.read_csv('../Data/Phishing_Detection_Dataset.csv')\n",
    "df_phishing_predict = pd.read_csv('../Data/Phishing_dataset_predict.csv')\n",
    "\n",
    "print(df_phishing_detection.head())\n",
    "print(df_phishing_predict.head())"
   ]
  }
 ],
 "metadata": {
  "kernelspec": {
   "display_name": "venv",
   "language": "python",
   "name": "python3"
  },
  "language_info": {
   "codemirror_mode": {
    "name": "ipython",
    "version": 3
   },
   "file_extension": ".py",
   "mimetype": "text/x-python",
   "name": "python",
   "nbconvert_exporter": "python",
   "pygments_lexer": "ipython3",
   "version": "3.11.9"
  }
 },
 "nbformat": 4,
 "nbformat_minor": 2
}
