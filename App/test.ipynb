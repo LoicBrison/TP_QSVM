{
 "cells": [
  {
   "cell_type": "code",
   "execution_count": null,
   "metadata": {},
   "outputs": [],
   "source": [
    "import pandas as pd\n",
    "from sklearn.model_selection import train_test_split\n",
    "from sklearn.feature_extraction.text import CountVectorizer\n",
    "from sklearn import svm\n",
    "\n",
    "spam = pd.read_csv('../Data/spam.csv')\n",
    "spam=spam.dropna(axis=1,how='all')\n",
    "z = spam['EmailText']\n",
    "y = spam[\"Label\"]\n",
    "z_train, z_test,y_train, y_test = train_test_split(z,y,test_size = 0.2)\n",
    "\n",
    "cv = CountVectorizer()\n",
    "features_train = cv.fit_transform(z_train)\n",
    "\n",
    "model = svm.SVC()\n",
    "model.fit(features_train,y_train)\n",
    "\n",
    "features_test = cv.transform(z_test)\n",
    "print(model.score(features_test,y_test))"
   ]
  },
  {
   "cell_type": "code",
   "execution_count": null,
   "metadata": {},
   "outputs": [],
   "source": [
    "print(\"features_train type:\",type(features_train))\n",
    "features_train = features_train.toarray()\n",
    "print(features_train.size)\n",
    "print(y_train.size)\n",
    "print(features_test.size)\n",
    "print(y_test.size)"
   ]
  },
  {
   "cell_type": "code",
   "execution_count": null,
   "metadata": {},
   "outputs": [],
   "source": [
    "import qiskit\n",
    "from sklearn.svm import SVC\n",
    "from qiskit_machine_learning.algorithms import QSVC\n",
    "from qiskit.circuit.library import ZZFeatureMap\n",
    "from qiskit.primitives import Sampler\n",
    "from qiskit_algorithms.state_fidelities import ComputeUncompute\n",
    "from qiskit_machine_learning.kernels import FidelityQuantumKernel\n",
    "\n",
    "adhoc_feature_map = ZZFeatureMap(feature_dimension=2, reps=2, entanglement=\"linear\")\n",
    "sampler = Sampler()\n",
    "fidelity = ComputeUncompute(sampler=sampler)\n",
    "adhoc_kernel = FidelityQuantumKernel(fidelity=fidelity, feature_map=adhoc_feature_map)\n",
    "qsvc = QSVC(quantum_kernel=adhoc_kernel)\n",
    "qsvc.fit(features_train, y_train)\n",
    "\n",
    "\n",
    "qsvc_score = qsvc.score(features_test, y_test)\n",
    "# print(f\"QSVC classification test score: {qsvc_score}\")"
   ]
  }
 ],
 "metadata": {
  "kernelspec": {
   "display_name": "venv",
   "language": "python",
   "name": "python3"
  },
  "language_info": {
   "codemirror_mode": {
    "name": "ipython",
    "version": 3
   },
   "file_extension": ".py",
   "mimetype": "text/x-python",
   "name": "python",
   "nbconvert_exporter": "python",
   "pygments_lexer": "ipython3",
   "version": "3.11.9"
  }
 },
 "nbformat": 4,
 "nbformat_minor": 2
}
